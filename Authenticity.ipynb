{
 "cells": [
  {
   "cell_type": "markdown",
   "id": "44bc90bf",
   "metadata": {},
   "source": [
    "### Library Input"
   ]
  },
  {
   "cell_type": "code",
   "execution_count": 1,
   "id": "66e27f1b",
   "metadata": {},
   "outputs": [],
   "source": [
    "import pandas as pd\n",
    "import matplotlib.pyplot as plt\n",
    "import seaborn as sns\n",
    "%matplotlib inline"
   ]
  },
  {
   "cell_type": "code",
   "execution_count": 2,
   "id": "b80c0b2d",
   "metadata": {},
   "outputs": [],
   "source": [
    "# !pip install plot-likert"
   ]
  },
  {
   "cell_type": "code",
   "execution_count": 3,
   "id": "b88c0685",
   "metadata": {},
   "outputs": [],
   "source": [
    "import numpy as np\n",
    "import seaborn as sns\n",
    "import plot_likert"
   ]
  },
  {
   "cell_type": "code",
   "execution_count": 4,
   "id": "efba821c",
   "metadata": {},
   "outputs": [],
   "source": [
    "sns.set_style('ticks')\n",
    "import warnings\n",
    "warnings.filterwarnings('ignore')"
   ]
  },
  {
   "cell_type": "markdown",
   "id": "a1f96d8b",
   "metadata": {},
   "source": [
    "### database input"
   ]
  },
  {
   "cell_type": "code",
   "execution_count": 5,
   "id": "024de900",
   "metadata": {},
   "outputs": [],
   "source": [
    "df = pd.read_excel('Exploring the Effects of Authenticity on Well-Being and Turnover.xlsx')\n"
   ]
  },
  {
   "cell_type": "code",
   "execution_count": 6,
   "id": "761e3fc6",
   "metadata": {},
   "outputs": [
    {
     "data": {
      "text/html": [
       "<div>\n",
       "<style scoped>\n",
       "    .dataframe tbody tr th:only-of-type {\n",
       "        vertical-align: middle;\n",
       "    }\n",
       "\n",
       "    .dataframe tbody tr th {\n",
       "        vertical-align: top;\n",
       "    }\n",
       "\n",
       "    .dataframe thead th {\n",
       "        text-align: right;\n",
       "    }\n",
       "</style>\n",
       "<table border=\"1\" class=\"dataframe\">\n",
       "  <thead>\n",
       "    <tr style=\"text-align: right;\">\n",
       "      <th></th>\n",
       "      <th>Respondent ID</th>\n",
       "      <th>Collector ID</th>\n",
       "      <th>Start Date</th>\n",
       "      <th>End Date</th>\n",
       "      <th>IP Address</th>\n",
       "      <th>Email Address</th>\n",
       "      <th>First Name</th>\n",
       "      <th>Last Name</th>\n",
       "      <th>Custom Data 1</th>\n",
       "      <th>Do you agree to participate in this study?</th>\n",
       "      <th>...</th>\n",
       "      <th>Unnamed: 87</th>\n",
       "      <th>Unnamed: 88</th>\n",
       "      <th>Unnamed: 89</th>\n",
       "      <th>Unnamed: 90</th>\n",
       "      <th>Where do you work?</th>\n",
       "      <th>Which clinic do you work in?</th>\n",
       "      <th>What is your highest degree?</th>\n",
       "      <th>What is the time of your shift?</th>\n",
       "      <th>Which race/ethnicity best describes you? (Please choose only one.)</th>\n",
       "      <th>Unnamed: 96</th>\n",
       "    </tr>\n",
       "  </thead>\n",
       "  <tbody>\n",
       "    <tr>\n",
       "      <th>0</th>\n",
       "      <td>NaN</td>\n",
       "      <td>NaN</td>\n",
       "      <td>NaT</td>\n",
       "      <td>NaT</td>\n",
       "      <td>NaN</td>\n",
       "      <td>NaN</td>\n",
       "      <td>NaN</td>\n",
       "      <td>NaN</td>\n",
       "      <td>NaN</td>\n",
       "      <td>Response</td>\n",
       "      <td>...</td>\n",
       "      <td>What year did you graduate from your nursing d...</td>\n",
       "      <td>How long, in years, have you worked in your cu...</td>\n",
       "      <td>What is the average number of hours you work e...</td>\n",
       "      <td>What is your shift length in hours?</td>\n",
       "      <td>Response</td>\n",
       "      <td>Response</td>\n",
       "      <td>Response</td>\n",
       "      <td>Response</td>\n",
       "      <td>Response</td>\n",
       "      <td>Multiple ethnicity / Other (please specify)</td>\n",
       "    </tr>\n",
       "    <tr>\n",
       "      <th>1</th>\n",
       "      <td>1.143768e+11</td>\n",
       "      <td>423753219.0</td>\n",
       "      <td>2023-07-27 08:43:44</td>\n",
       "      <td>2023-07-27 08:44:16</td>\n",
       "      <td>NaN</td>\n",
       "      <td>NaN</td>\n",
       "      <td>NaN</td>\n",
       "      <td>NaN</td>\n",
       "      <td>NaN</td>\n",
       "      <td>Yes</td>\n",
       "      <td>...</td>\n",
       "      <td>NaN</td>\n",
       "      <td>NaN</td>\n",
       "      <td>NaN</td>\n",
       "      <td>NaN</td>\n",
       "      <td>NaN</td>\n",
       "      <td>NaN</td>\n",
       "      <td>NaN</td>\n",
       "      <td>NaN</td>\n",
       "      <td>NaN</td>\n",
       "      <td>NaN</td>\n",
       "    </tr>\n",
       "    <tr>\n",
       "      <th>2</th>\n",
       "      <td>1.143767e+11</td>\n",
       "      <td>423753219.0</td>\n",
       "      <td>2023-07-27 08:09:33</td>\n",
       "      <td>2023-07-27 08:09:52</td>\n",
       "      <td>NaN</td>\n",
       "      <td>NaN</td>\n",
       "      <td>NaN</td>\n",
       "      <td>NaN</td>\n",
       "      <td>NaN</td>\n",
       "      <td>Yes</td>\n",
       "      <td>...</td>\n",
       "      <td>NaN</td>\n",
       "      <td>NaN</td>\n",
       "      <td>NaN</td>\n",
       "      <td>NaN</td>\n",
       "      <td>NaN</td>\n",
       "      <td>NaN</td>\n",
       "      <td>NaN</td>\n",
       "      <td>NaN</td>\n",
       "      <td>NaN</td>\n",
       "      <td>NaN</td>\n",
       "    </tr>\n",
       "    <tr>\n",
       "      <th>3</th>\n",
       "      <td>1.143767e+11</td>\n",
       "      <td>423753219.0</td>\n",
       "      <td>2023-07-27 07:49:18</td>\n",
       "      <td>2023-07-27 07:59:26</td>\n",
       "      <td>NaN</td>\n",
       "      <td>NaN</td>\n",
       "      <td>NaN</td>\n",
       "      <td>NaN</td>\n",
       "      <td>NaN</td>\n",
       "      <td>Yes</td>\n",
       "      <td>...</td>\n",
       "      <td>2022</td>\n",
       "      <td>1</td>\n",
       "      <td>40</td>\n",
       "      <td>13</td>\n",
       "      <td>Hospital</td>\n",
       "      <td>Adult medical surgical with telemetry</td>\n",
       "      <td>Bachelor’s degree</td>\n",
       "      <td>Day</td>\n",
       "      <td>Multiple ethnicity / Other (please specify)</td>\n",
       "      <td>Several</td>\n",
       "    </tr>\n",
       "    <tr>\n",
       "      <th>4</th>\n",
       "      <td>1.143767e+11</td>\n",
       "      <td>423753219.0</td>\n",
       "      <td>2023-07-27 06:57:07</td>\n",
       "      <td>2023-07-27 07:08:07</td>\n",
       "      <td>NaN</td>\n",
       "      <td>NaN</td>\n",
       "      <td>NaN</td>\n",
       "      <td>NaN</td>\n",
       "      <td>NaN</td>\n",
       "      <td>Yes</td>\n",
       "      <td>...</td>\n",
       "      <td>1998</td>\n",
       "      <td>5</td>\n",
       "      <td>32</td>\n",
       "      <td>12</td>\n",
       "      <td>Hospital</td>\n",
       "      <td>Other, not listed</td>\n",
       "      <td>High school degree</td>\n",
       "      <td>Day</td>\n",
       "      <td>White / Caucasian</td>\n",
       "      <td>NaN</td>\n",
       "    </tr>\n",
       "  </tbody>\n",
       "</table>\n",
       "<p>5 rows × 97 columns</p>\n",
       "</div>"
      ],
      "text/plain": [
       "   Respondent ID  Collector ID          Start Date            End Date   \n",
       "0            NaN           NaN                 NaT                 NaT  \\\n",
       "1   1.143768e+11   423753219.0 2023-07-27 08:43:44 2023-07-27 08:44:16   \n",
       "2   1.143767e+11   423753219.0 2023-07-27 08:09:33 2023-07-27 08:09:52   \n",
       "3   1.143767e+11   423753219.0 2023-07-27 07:49:18 2023-07-27 07:59:26   \n",
       "4   1.143767e+11   423753219.0 2023-07-27 06:57:07 2023-07-27 07:08:07   \n",
       "\n",
       "   IP Address  Email Address  First Name  Last Name  Custom Data 1   \n",
       "0         NaN            NaN         NaN        NaN            NaN  \\\n",
       "1         NaN            NaN         NaN        NaN            NaN   \n",
       "2         NaN            NaN         NaN        NaN            NaN   \n",
       "3         NaN            NaN         NaN        NaN            NaN   \n",
       "4         NaN            NaN         NaN        NaN            NaN   \n",
       "\n",
       "  Do you agree to participate in this study?  ...   \n",
       "0                                   Response  ...  \\\n",
       "1                                        Yes  ...   \n",
       "2                                        Yes  ...   \n",
       "3                                        Yes  ...   \n",
       "4                                        Yes  ...   \n",
       "\n",
       "                                         Unnamed: 87   \n",
       "0  What year did you graduate from your nursing d...  \\\n",
       "1                                                NaN   \n",
       "2                                                NaN   \n",
       "3                                               2022   \n",
       "4                                               1998   \n",
       "\n",
       "                                         Unnamed: 88   \n",
       "0  How long, in years, have you worked in your cu...  \\\n",
       "1                                                NaN   \n",
       "2                                                NaN   \n",
       "3                                                  1   \n",
       "4                                                  5   \n",
       "\n",
       "                                         Unnamed: 89   \n",
       "0  What is the average number of hours you work e...  \\\n",
       "1                                                NaN   \n",
       "2                                                NaN   \n",
       "3                                                 40   \n",
       "4                                                 32   \n",
       "\n",
       "                           Unnamed: 90 Where do you work?   \n",
       "0  What is your shift length in hours?           Response  \\\n",
       "1                                  NaN                NaN   \n",
       "2                                  NaN                NaN   \n",
       "3                                   13           Hospital   \n",
       "4                                   12           Hospital   \n",
       "\n",
       "            Which clinic do you work in? What is your highest degree?   \n",
       "0                               Response                     Response  \\\n",
       "1                                    NaN                          NaN   \n",
       "2                                    NaN                          NaN   \n",
       "3  Adult medical surgical with telemetry            Bachelor’s degree   \n",
       "4                      Other, not listed           High school degree   \n",
       "\n",
       "  What is the time of your shift?   \n",
       "0                        Response  \\\n",
       "1                             NaN   \n",
       "2                             NaN   \n",
       "3                             Day   \n",
       "4                             Day   \n",
       "\n",
       "  Which race/ethnicity best describes you? (Please choose only one.)    \n",
       "0                                           Response                   \\\n",
       "1                                                NaN                    \n",
       "2                                                NaN                    \n",
       "3        Multiple ethnicity / Other (please specify)                    \n",
       "4                                  White / Caucasian                    \n",
       "\n",
       "                                   Unnamed: 96  \n",
       "0  Multiple ethnicity / Other (please specify)  \n",
       "1                                          NaN  \n",
       "2                                          NaN  \n",
       "3                                      Several  \n",
       "4                                          NaN  \n",
       "\n",
       "[5 rows x 97 columns]"
      ]
     },
     "execution_count": 6,
     "metadata": {},
     "output_type": "execute_result"
    }
   ],
   "source": [
    "df.head(5)"
   ]
  },
  {
   "cell_type": "markdown",
   "id": "acf0dba9",
   "metadata": {},
   "source": [
    "## Data prepossessing"
   ]
  },
  {
   "cell_type": "markdown",
   "id": "4288fb62",
   "metadata": {},
   "source": [
    "### Rename"
   ]
  },
  {
   "cell_type": "code",
   "execution_count": 7,
   "id": "adbb54f2",
   "metadata": {},
   "outputs": [],
   "source": [
    "df.rename(columns = {\"In responding to these statements, please think about how you act while at work (i.e., on the job).\":\"think about how you act while at work\"}, inplace = True)"
   ]
  },
  {
   "cell_type": "code",
   "execution_count": 8,
   "id": "6f78bb68",
   "metadata": {},
   "outputs": [],
   "source": [
    "df.rename(columns = {\"Please rate yourself on these statements.\":\"Current Status\"}, inplace = True)"
   ]
  },
  {
   "cell_type": "code",
   "execution_count": 9,
   "id": "495297b6",
   "metadata": {},
   "outputs": [],
   "source": [
    "df.rename(columns = {\"Please answer using numerals (digits) rather than words.\":\"Age\"}, inplace = True)"
   ]
  },
  {
   "cell_type": "code",
   "execution_count": 10,
   "id": "221f2080",
   "metadata": {},
   "outputs": [],
   "source": [
    "df.rename(columns = {\"This question asks about the level of authentic behavior of your work unit or work team. Authentic behavior can be defined as acting in accordance with your subjective experiences, wishes, and beliefs. It might be considered to be the opposite of feigning, pretending, faking.\":\"authentic behavior\"}, inplace = True)"
   ]
  },
  {
   "cell_type": "code",
   "execution_count": null,
   "id": "771f0fbc",
   "metadata": {},
   "outputs": [],
   "source": []
  },
  {
   "cell_type": "code",
   "execution_count": 11,
   "id": "720457c2",
   "metadata": {},
   "outputs": [],
   "source": [
    "df.rename(columns = {\"For these questions, think about how satisfied you are with your job.\":\"satisfied_job\"}, inplace = True)"
   ]
  },
  {
   "cell_type": "code",
   "execution_count": null,
   "id": "3f98aecc",
   "metadata": {},
   "outputs": [],
   "source": []
  },
  {
   "cell_type": "code",
   "execution_count": 12,
   "id": "be133594",
   "metadata": {},
   "outputs": [],
   "source": [
    "dftest = df[['Respondent ID','Age','What is your gender identification?','Current Status','satisfied_job','authentic behavior','think about how you act while at work','Are you a nurse?','Where do you work?','Which clinic do you work in?','What is the time of your shift?','What is your highest degree?']]"
   ]
  },
  {
   "cell_type": "markdown",
   "id": "dfb03d29",
   "metadata": {},
   "source": [
    "####  Data Cleaning"
   ]
  },
  {
   "cell_type": "code",
   "execution_count": 13,
   "id": "ba6d235c",
   "metadata": {},
   "outputs": [],
   "source": [
    "df1 = dftest.dropna()"
   ]
  },
  {
   "cell_type": "markdown",
   "id": "c770477d",
   "metadata": {},
   "source": [
    "### Data Reading "
   ]
  },
  {
   "cell_type": "code",
   "execution_count": 14,
   "id": "7e07a046",
   "metadata": {},
   "outputs": [
    {
     "data": {
      "text/html": [
       "<div>\n",
       "<style scoped>\n",
       "    .dataframe tbody tr th:only-of-type {\n",
       "        vertical-align: middle;\n",
       "    }\n",
       "\n",
       "    .dataframe tbody tr th {\n",
       "        vertical-align: top;\n",
       "    }\n",
       "\n",
       "    .dataframe thead th {\n",
       "        text-align: right;\n",
       "    }\n",
       "</style>\n",
       "<table border=\"1\" class=\"dataframe\">\n",
       "  <thead>\n",
       "    <tr style=\"text-align: right;\">\n",
       "      <th></th>\n",
       "      <th>Respondent ID</th>\n",
       "      <th>Age</th>\n",
       "      <th>What is your gender identification?</th>\n",
       "      <th>Current Status</th>\n",
       "      <th>satisfied_job</th>\n",
       "      <th>authentic behavior</th>\n",
       "      <th>think about how you act while at work</th>\n",
       "      <th>Are you a nurse?</th>\n",
       "      <th>Where do you work?</th>\n",
       "      <th>Which clinic do you work in?</th>\n",
       "      <th>What is the time of your shift?</th>\n",
       "      <th>What is your highest degree?</th>\n",
       "    </tr>\n",
       "  </thead>\n",
       "  <tbody>\n",
       "    <tr>\n",
       "      <th>3</th>\n",
       "      <td>1.143767e+11</td>\n",
       "      <td>56</td>\n",
       "      <td>Female</td>\n",
       "      <td>Once a week (often)</td>\n",
       "      <td>Strongly disagree</td>\n",
       "      <td>Agree</td>\n",
       "      <td>Disagree</td>\n",
       "      <td>Yes</td>\n",
       "      <td>Hospital</td>\n",
       "      <td>Adult medical surgical with telemetry</td>\n",
       "      <td>Day</td>\n",
       "      <td>Bachelor’s degree</td>\n",
       "    </tr>\n",
       "    <tr>\n",
       "      <th>4</th>\n",
       "      <td>1.143767e+11</td>\n",
       "      <td>46</td>\n",
       "      <td>Female</td>\n",
       "      <td>Once a week (often)</td>\n",
       "      <td>Agree</td>\n",
       "      <td>Agree</td>\n",
       "      <td>Disagree</td>\n",
       "      <td>Yes</td>\n",
       "      <td>Hospital</td>\n",
       "      <td>Other, not listed</td>\n",
       "      <td>Day</td>\n",
       "      <td>High school degree</td>\n",
       "    </tr>\n",
       "    <tr>\n",
       "      <th>5</th>\n",
       "      <td>1.143766e+11</td>\n",
       "      <td>73</td>\n",
       "      <td>Female</td>\n",
       "      <td>A few times a week (very often)</td>\n",
       "      <td>Strongly agree</td>\n",
       "      <td>Agree</td>\n",
       "      <td>Disagree</td>\n",
       "      <td>Yes</td>\n",
       "      <td>Hospital</td>\n",
       "      <td>Emergency room</td>\n",
       "      <td>Nights</td>\n",
       "      <td>Associate's degree</td>\n",
       "    </tr>\n",
       "    <tr>\n",
       "      <th>7</th>\n",
       "      <td>1.143766e+11</td>\n",
       "      <td>53</td>\n",
       "      <td>Female</td>\n",
       "      <td>A few times a week (very often)</td>\n",
       "      <td>Neither agree or disagree</td>\n",
       "      <td>Strongly agree</td>\n",
       "      <td>Agree</td>\n",
       "      <td>Yes</td>\n",
       "      <td>Hospital</td>\n",
       "      <td>Adult medical surgical with telemetry</td>\n",
       "      <td>Nights</td>\n",
       "      <td>Associate's degree</td>\n",
       "    </tr>\n",
       "    <tr>\n",
       "      <th>11</th>\n",
       "      <td>1.143765e+11</td>\n",
       "      <td>53</td>\n",
       "      <td>Male</td>\n",
       "      <td>A few times a week (very often)</td>\n",
       "      <td>Agree</td>\n",
       "      <td>Neither agree or disagree</td>\n",
       "      <td>Neither agree or disagree</td>\n",
       "      <td>Yes</td>\n",
       "      <td>Nursing home/assisted-living residence</td>\n",
       "      <td>Other, not listed</td>\n",
       "      <td>Nights</td>\n",
       "      <td>High school degree</td>\n",
       "    </tr>\n",
       "  </tbody>\n",
       "</table>\n",
       "</div>"
      ],
      "text/plain": [
       "    Respondent ID Age What is your gender identification?   \n",
       "3    1.143767e+11  56                              Female  \\\n",
       "4    1.143767e+11  46                              Female   \n",
       "5    1.143766e+11  73                              Female   \n",
       "7    1.143766e+11  53                              Female   \n",
       "11   1.143765e+11  53                                Male   \n",
       "\n",
       "                     Current Status              satisfied_job   \n",
       "3               Once a week (often)          Strongly disagree  \\\n",
       "4               Once a week (often)                      Agree   \n",
       "5   A few times a week (very often)             Strongly agree   \n",
       "7   A few times a week (very often)  Neither agree or disagree   \n",
       "11  A few times a week (very often)                      Agree   \n",
       "\n",
       "           authentic behavior think about how you act while at work   \n",
       "3                       Agree                              Disagree  \\\n",
       "4                       Agree                              Disagree   \n",
       "5                       Agree                              Disagree   \n",
       "7              Strongly agree                                 Agree   \n",
       "11  Neither agree or disagree             Neither agree or disagree   \n",
       "\n",
       "   Are you a nurse?                      Where do you work?   \n",
       "3               Yes                                Hospital  \\\n",
       "4               Yes                                Hospital   \n",
       "5               Yes                                Hospital   \n",
       "7               Yes                                Hospital   \n",
       "11              Yes  Nursing home/assisted-living residence   \n",
       "\n",
       "             Which clinic do you work in? What is the time of your shift?   \n",
       "3   Adult medical surgical with telemetry                             Day  \\\n",
       "4                       Other, not listed                             Day   \n",
       "5                          Emergency room                          Nights   \n",
       "7   Adult medical surgical with telemetry                          Nights   \n",
       "11                      Other, not listed                          Nights   \n",
       "\n",
       "   What is your highest degree?  \n",
       "3             Bachelor’s degree  \n",
       "4            High school degree  \n",
       "5            Associate's degree  \n",
       "7            Associate's degree  \n",
       "11           High school degree  "
      ]
     },
     "execution_count": 14,
     "metadata": {},
     "output_type": "execute_result"
    }
   ],
   "source": [
    "df1.head(5)"
   ]
  },
  {
   "cell_type": "code",
   "execution_count": 15,
   "id": "979696a7",
   "metadata": {},
   "outputs": [
    {
     "data": {
      "text/plain": [
       "(730, 12)"
      ]
     },
     "execution_count": 15,
     "metadata": {},
     "output_type": "execute_result"
    }
   ],
   "source": [
    "df1.shape"
   ]
  },
  {
   "cell_type": "code",
   "execution_count": 16,
   "id": "63b3f85c",
   "metadata": {},
   "outputs": [
    {
     "data": {
      "text/plain": [
       "Respondent ID                            0\n",
       "Age                                      0\n",
       "What is your gender identification?      0\n",
       "Current Status                           0\n",
       "satisfied_job                            0\n",
       "authentic behavior                       0\n",
       "think about how you act while at work    0\n",
       "Are you a nurse?                         0\n",
       "Where do you work?                       0\n",
       "Which clinic do you work in?             0\n",
       "What is the time of your shift?          0\n",
       "What is your highest degree?             0\n",
       "dtype: int64"
      ]
     },
     "execution_count": 16,
     "metadata": {},
     "output_type": "execute_result"
    }
   ],
   "source": [
    "df1.isnull().sum()"
   ]
  },
  {
   "cell_type": "code",
   "execution_count": 17,
   "id": "ccaa1dc2",
   "metadata": {},
   "outputs": [
    {
     "name": "stdout",
     "output_type": "stream",
     "text": [
      "<class 'pandas.core.frame.DataFrame'>\n",
      "Index: 730 entries, 3 to 1463\n",
      "Data columns (total 12 columns):\n",
      " #   Column                                 Non-Null Count  Dtype  \n",
      "---  ------                                 --------------  -----  \n",
      " 0   Respondent ID                          730 non-null    float64\n",
      " 1   Age                                    730 non-null    object \n",
      " 2   What is your gender identification?    730 non-null    object \n",
      " 3   Current Status                         730 non-null    object \n",
      " 4   satisfied_job                          730 non-null    object \n",
      " 5   authentic behavior                     730 non-null    object \n",
      " 6   think about how you act while at work  730 non-null    object \n",
      " 7   Are you a nurse?                       730 non-null    object \n",
      " 8   Where do you work?                     730 non-null    object \n",
      " 9   Which clinic do you work in?           730 non-null    object \n",
      " 10  What is the time of your shift?        730 non-null    object \n",
      " 11  What is your highest degree?           730 non-null    object \n",
      "dtypes: float64(1), object(11)\n",
      "memory usage: 74.1+ KB\n"
     ]
    }
   ],
   "source": [
    "df1.info()"
   ]
  },
  {
   "cell_type": "code",
   "execution_count": 18,
   "id": "683b5bee",
   "metadata": {},
   "outputs": [
    {
     "data": {
      "text/html": [
       "<div>\n",
       "<style scoped>\n",
       "    .dataframe tbody tr th:only-of-type {\n",
       "        vertical-align: middle;\n",
       "    }\n",
       "\n",
       "    .dataframe tbody tr th {\n",
       "        vertical-align: top;\n",
       "    }\n",
       "\n",
       "    .dataframe thead th {\n",
       "        text-align: right;\n",
       "    }\n",
       "</style>\n",
       "<table border=\"1\" class=\"dataframe\">\n",
       "  <thead>\n",
       "    <tr style=\"text-align: right;\">\n",
       "      <th></th>\n",
       "      <th>Respondent ID</th>\n",
       "    </tr>\n",
       "  </thead>\n",
       "  <tbody>\n",
       "    <tr>\n",
       "      <th>count</th>\n",
       "      <td>7.300000e+02</td>\n",
       "    </tr>\n",
       "    <tr>\n",
       "      <th>mean</th>\n",
       "      <td>1.143675e+11</td>\n",
       "    </tr>\n",
       "    <tr>\n",
       "      <th>std</th>\n",
       "      <td>4.766981e+06</td>\n",
       "    </tr>\n",
       "    <tr>\n",
       "      <th>min</th>\n",
       "      <td>1.143569e+11</td>\n",
       "    </tr>\n",
       "    <tr>\n",
       "      <th>25%</th>\n",
       "      <td>1.143641e+11</td>\n",
       "    </tr>\n",
       "    <tr>\n",
       "      <th>50%</th>\n",
       "      <td>1.143677e+11</td>\n",
       "    </tr>\n",
       "    <tr>\n",
       "      <th>75%</th>\n",
       "      <td>1.143716e+11</td>\n",
       "    </tr>\n",
       "    <tr>\n",
       "      <th>max</th>\n",
       "      <td>1.143767e+11</td>\n",
       "    </tr>\n",
       "  </tbody>\n",
       "</table>\n",
       "</div>"
      ],
      "text/plain": [
       "       Respondent ID\n",
       "count   7.300000e+02\n",
       "mean    1.143675e+11\n",
       "std     4.766981e+06\n",
       "min     1.143569e+11\n",
       "25%     1.143641e+11\n",
       "50%     1.143677e+11\n",
       "75%     1.143716e+11\n",
       "max     1.143767e+11"
      ]
     },
     "execution_count": 18,
     "metadata": {},
     "output_type": "execute_result"
    }
   ],
   "source": [
    "df1.describe()"
   ]
  },
  {
   "cell_type": "code",
   "execution_count": 19,
   "id": "4d8a0177",
   "metadata": {},
   "outputs": [],
   "source": [
    "# if df1.empty or len(df1) == 0:\n",
    "#     print(\"DataFrame is empty or has no rows.\")\n",
    "# else:\n",
    "#     print(\"DataFrame rows.\")"
   ]
  },
  {
   "cell_type": "code",
   "execution_count": 20,
   "id": "f826955a",
   "metadata": {},
   "outputs": [],
   "source": [
    "# print(len(df1))"
   ]
  },
  {
   "cell_type": "code",
   "execution_count": 21,
   "id": "8bfb7fc2",
   "metadata": {
    "scrolled": true
   },
   "outputs": [],
   "source": [
    "# print(df1.index)"
   ]
  },
  {
   "cell_type": "code",
   "execution_count": 22,
   "id": "4ec67cb4",
   "metadata": {},
   "outputs": [],
   "source": [
    "# try:\n",
    "#     row_0 = df1.loc['0']\n",
    "# except KeyError:\n",
    "#     print(\"Index label 0 not found in DataFrame.\")\n"
   ]
  },
  {
   "cell_type": "code",
   "execution_count": 23,
   "id": "53e6e260",
   "metadata": {},
   "outputs": [],
   "source": [
    "# def age_group(age):\n",
    "    \n",
    "#     \"\"\"Creates an age bucket for each participant using the age variable.\n",
    "#         Meant to be used on a DataFrame with .apply().\"\"\"\n",
    "    \n",
    "#     # Convert to an int, in case the data is read in as an \"object\" (aka string)\n",
    "#     age = int(age)\n",
    "    \n",
    "#     if age < 30:\n",
    "#         bucket = '<30'\n",
    "    \n",
    "#     # Age 30 to 39 ('range' excludes upper bound)\n",
    "#     if age in range(30, 40):\n",
    "#         bucket = '30-39'\n",
    "        \n",
    "#     if age in range(40, 50):\n",
    "#         bucket = '40-49'\n",
    "        \n",
    "#     if age in range(50, 60):\n",
    "#         bucket = '50-59'\n",
    "   \n",
    "#     if age >= 60:\n",
    "#         bucket = '60+'\n",
    "\n",
    "#     return bucket "
   ]
  },
  {
   "cell_type": "code",
   "execution_count": 24,
   "id": "28f83aa1",
   "metadata": {},
   "outputs": [],
   "source": [
    "# df1['Age'] = df1['Age'].apply(age_group)\n",
    "\n",
    "# df1['Age'].head(3)"
   ]
  },
  {
   "cell_type": "code",
   "execution_count": 25,
   "id": "58e29787",
   "metadata": {},
   "outputs": [
    {
     "data": {
      "text/plain": [
       "What is your highest degree?\n",
       "Bachelor’s degree     349\n",
       "Master's degree       177\n",
       "Associate's degree    163\n",
       "Doctorate (DNP)        24\n",
       "Doctorate (PhD)        12\n",
       "High school degree      5\n",
       "Name: count, dtype: int64"
      ]
     },
     "execution_count": 25,
     "metadata": {},
     "output_type": "execute_result"
    }
   ],
   "source": [
    "df1['What is your highest degree?'].value_counts()"
   ]
  },
  {
   "cell_type": "code",
   "execution_count": 26,
   "id": "d2e2cc33",
   "metadata": {},
   "outputs": [
    {
     "data": {
      "text/plain": [
       "What is the time of your shift?\n",
       "Day                540\n",
       "Nights             138\n",
       "Rotating shifts     38\n",
       "Afternoon shift     14\n",
       "Name: count, dtype: int64"
      ]
     },
     "execution_count": 26,
     "metadata": {},
     "output_type": "execute_result"
    }
   ],
   "source": [
    "df1['What is the time of your shift?'].value_counts()"
   ]
  },
  {
   "cell_type": "code",
   "execution_count": 27,
   "id": "4bacdfa8",
   "metadata": {},
   "outputs": [
    {
     "data": {
      "text/plain": [
       "Are you a nurse?\n",
       "Yes    721\n",
       "No       9\n",
       "Name: count, dtype: int64"
      ]
     },
     "execution_count": 27,
     "metadata": {},
     "output_type": "execute_result"
    }
   ],
   "source": [
    "df1['Are you a nurse?'].value_counts()"
   ]
  },
  {
   "cell_type": "code",
   "execution_count": 28,
   "id": "d800fb01",
   "metadata": {},
   "outputs": [
    {
     "data": {
      "text/plain": [
       "Which clinic do you work in?\n",
       "Other, not listed                                                              353\n",
       "Adult medical surgical with telemetry                                           94\n",
       "Perioperative (e.g., pre-anesthesia, operating room, post-anesthesia, etc).     81\n",
       "Adult intensive care (e.g., cardiac, neuro, trauma, surgical, etc.)             62\n",
       "Emergency room                                                                  49\n",
       "Adult oncology                                                                  18\n",
       "Adult medical surgical without telemetry                                        18\n",
       "Mother and baby                                                                 14\n",
       "Neonatal intensive care                                                         14\n",
       "Labor and delivery                                                              12\n",
       "Pediatric intensive care                                                         8\n",
       "Pediatric medical surgical                                                       6\n",
       "Pediatric oncology                                                               1\n",
       "Name: count, dtype: int64"
      ]
     },
     "execution_count": 28,
     "metadata": {},
     "output_type": "execute_result"
    }
   ],
   "source": [
    "df1['Which clinic do you work in?'].value_counts()"
   ]
  },
  {
   "cell_type": "code",
   "execution_count": 29,
   "id": "b44f62b5",
   "metadata": {},
   "outputs": [
    {
     "data": {
      "text/plain": [
       "Age\n",
       "59      32\n",
       "61      32\n",
       "64      27\n",
       "62      24\n",
       "56      22\n",
       "        ..\n",
       "7213     1\n",
       "76       1\n",
       "86       1\n",
       "79       1\n",
       "77       1\n",
       "Name: count, Length: 64, dtype: int64"
      ]
     },
     "execution_count": 29,
     "metadata": {},
     "output_type": "execute_result"
    }
   ],
   "source": [
    "df1['Age'].value_counts()"
   ]
  },
  {
   "cell_type": "code",
   "execution_count": 30,
   "id": "1afe8abc",
   "metadata": {},
   "outputs": [
    {
     "data": {
      "text/plain": [
       "think about how you act while at work\n",
       "Disagree                     230\n",
       "Agree                        221\n",
       "Neither agree or disagree    125\n",
       "Strongly agree                79\n",
       "Strongly disagree             75\n",
       "Name: count, dtype: int64"
      ]
     },
     "execution_count": 30,
     "metadata": {},
     "output_type": "execute_result"
    }
   ],
   "source": [
    "df1['think about how you act while at work'].value_counts()"
   ]
  },
  {
   "cell_type": "code",
   "execution_count": 31,
   "id": "b5e5feda",
   "metadata": {},
   "outputs": [
    {
     "data": {
      "text/plain": [
       "What is your gender identification?\n",
       "Female                    640\n",
       "Male                       80\n",
       "I prefer not to answer      7\n",
       "Other                       3\n",
       "Name: count, dtype: int64"
      ]
     },
     "execution_count": 31,
     "metadata": {},
     "output_type": "execute_result"
    }
   ],
   "source": [
    "df1['What is your gender identification?'].value_counts()"
   ]
  },
  {
   "cell_type": "code",
   "execution_count": 32,
   "id": "959869df",
   "metadata": {},
   "outputs": [
    {
     "data": {
      "text/plain": [
       "Current Status\n",
       "A few times a week (very often)              222\n",
       "A few times a month (sometimes)              153\n",
       "Once a week (often)                          108\n",
       "Once a month or less (rarely)                 81\n",
       "Every Day (always)                            64\n",
       "Never                                         61\n",
       "A few times a year or less (almost never)     41\n",
       "Name: count, dtype: int64"
      ]
     },
     "execution_count": 32,
     "metadata": {},
     "output_type": "execute_result"
    }
   ],
   "source": [
    "df1['Current Status'].value_counts()"
   ]
  },
  {
   "cell_type": "code",
   "execution_count": 33,
   "id": "c18cc54a",
   "metadata": {},
   "outputs": [
    {
     "data": {
      "text/html": [
       "<div>\n",
       "<style scoped>\n",
       "    .dataframe tbody tr th:only-of-type {\n",
       "        vertical-align: middle;\n",
       "    }\n",
       "\n",
       "    .dataframe tbody tr th {\n",
       "        vertical-align: top;\n",
       "    }\n",
       "\n",
       "    .dataframe thead th {\n",
       "        text-align: right;\n",
       "    }\n",
       "</style>\n",
       "<table border=\"1\" class=\"dataframe\">\n",
       "  <thead>\n",
       "    <tr style=\"text-align: right;\">\n",
       "      <th></th>\n",
       "      <th>Respondent ID</th>\n",
       "      <th>Age</th>\n",
       "      <th>What is your gender identification?</th>\n",
       "      <th>Current Status</th>\n",
       "      <th>satisfied_job</th>\n",
       "      <th>authentic behavior</th>\n",
       "      <th>think about how you act while at work</th>\n",
       "      <th>Are you a nurse?</th>\n",
       "      <th>Where do you work?</th>\n",
       "      <th>Which clinic do you work in?</th>\n",
       "      <th>What is the time of your shift?</th>\n",
       "      <th>What is your highest degree?</th>\n",
       "    </tr>\n",
       "  </thead>\n",
       "  <tbody>\n",
       "    <tr>\n",
       "      <th>3</th>\n",
       "      <td>1.143767e+11</td>\n",
       "      <td>56</td>\n",
       "      <td>Female</td>\n",
       "      <td>Once a week (often)</td>\n",
       "      <td>Strongly disagree</td>\n",
       "      <td>Agree</td>\n",
       "      <td>Disagree</td>\n",
       "      <td>Yes</td>\n",
       "      <td>Hospital</td>\n",
       "      <td>Adult medical surgical with telemetry</td>\n",
       "      <td>Day</td>\n",
       "      <td>Bachelor’s degree</td>\n",
       "    </tr>\n",
       "  </tbody>\n",
       "</table>\n",
       "</div>"
      ],
      "text/plain": [
       "   Respondent ID Age What is your gender identification?       Current Status   \n",
       "3   1.143767e+11  56                              Female  Once a week (often)  \\\n",
       "\n",
       "       satisfied_job authentic behavior think about how you act while at work   \n",
       "3  Strongly disagree              Agree                              Disagree  \\\n",
       "\n",
       "  Are you a nurse? Where do you work?           Which clinic do you work in?   \n",
       "3              Yes           Hospital  Adult medical surgical with telemetry  \\\n",
       "\n",
       "  What is the time of your shift? What is your highest degree?  \n",
       "3                             Day            Bachelor’s degree  "
      ]
     },
     "execution_count": 33,
     "metadata": {},
     "output_type": "execute_result"
    }
   ],
   "source": [
    "df1.head(1)"
   ]
  },
  {
   "cell_type": "code",
   "execution_count": 34,
   "id": "4f540e09",
   "metadata": {},
   "outputs": [
    {
     "data": {
      "text/plain": [
       "pandas.core.frame.DataFrame"
      ]
     },
     "execution_count": 34,
     "metadata": {},
     "output_type": "execute_result"
    }
   ],
   "source": [
    "type(df)"
   ]
  },
  {
   "cell_type": "code",
   "execution_count": 35,
   "id": "1f36d47d",
   "metadata": {},
   "outputs": [
    {
     "data": {
      "text/plain": [
       "pandas.core.frame.DataFrame"
      ]
     },
     "execution_count": 35,
     "metadata": {},
     "output_type": "execute_result"
    }
   ],
   "source": [
    "type(df1)"
   ]
  },
  {
   "cell_type": "markdown",
   "id": "d9acf23e",
   "metadata": {},
   "source": [
    "## Ordinal Encoding "
   ]
  },
  {
   "cell_type": "code",
   "execution_count": 36,
   "id": "d0213083",
   "metadata": {},
   "outputs": [],
   "source": [
    "def gender(value):\n",
    "    \n",
    "    \"\"\"Creates an age bucket for each participant using the age variable.\n",
    "        Meant to be used on a DataFrame with .apply().\"\"\"\n",
    "    \n",
    "    if value ==  'Female':\n",
    "        bucket = 0\n",
    "    \n",
    "    if value ==  'Male':\n",
    "        bucket = 1\n",
    "        \n",
    "    if value == 'I prefer not to answer':\n",
    "        bucket = 2\n",
    "   \n",
    "    if value == 'Other':\n",
    "        bucket = 3\n",
    "\n",
    "    return bucket "
   ]
  },
  {
   "cell_type": "code",
   "execution_count": 37,
   "id": "2d89a677",
   "metadata": {},
   "outputs": [
    {
     "data": {
      "text/plain": [
       "3    0\n",
       "4    0\n",
       "5    0\n",
       "Name: What is your gender identification?, dtype: int64"
      ]
     },
     "execution_count": 37,
     "metadata": {},
     "output_type": "execute_result"
    }
   ],
   "source": [
    "df1['What is your gender identification?'] = df1['What is your gender identification?'].apply(gender)\n",
    "df1['What is your gender identification?'].head(3)\n"
   ]
  },
  {
   "cell_type": "code",
   "execution_count": 38,
   "id": "93493297",
   "metadata": {},
   "outputs": [
    {
     "data": {
      "text/plain": [
       "What is your gender identification?\n",
       "0    640\n",
       "1     80\n",
       "2      7\n",
       "3      3\n",
       "Name: count, dtype: int64"
      ]
     },
     "execution_count": 38,
     "metadata": {},
     "output_type": "execute_result"
    }
   ],
   "source": [
    "df1['What is your gender identification?'].value_counts()"
   ]
  },
  {
   "cell_type": "code",
   "execution_count": 39,
   "id": "a905faa5",
   "metadata": {},
   "outputs": [
    {
     "data": {
      "text/html": [
       "<div>\n",
       "<style scoped>\n",
       "    .dataframe tbody tr th:only-of-type {\n",
       "        vertical-align: middle;\n",
       "    }\n",
       "\n",
       "    .dataframe tbody tr th {\n",
       "        vertical-align: top;\n",
       "    }\n",
       "\n",
       "    .dataframe thead th {\n",
       "        text-align: right;\n",
       "    }\n",
       "</style>\n",
       "<table border=\"1\" class=\"dataframe\">\n",
       "  <thead>\n",
       "    <tr style=\"text-align: right;\">\n",
       "      <th></th>\n",
       "      <th>Respondent ID</th>\n",
       "      <th>What is your gender identification?</th>\n",
       "    </tr>\n",
       "  </thead>\n",
       "  <tbody>\n",
       "    <tr>\n",
       "      <th>count</th>\n",
       "      <td>7.300000e+02</td>\n",
       "      <td>730.000000</td>\n",
       "    </tr>\n",
       "    <tr>\n",
       "      <th>mean</th>\n",
       "      <td>1.143675e+11</td>\n",
       "      <td>0.141096</td>\n",
       "    </tr>\n",
       "    <tr>\n",
       "      <th>std</th>\n",
       "      <td>4.766981e+06</td>\n",
       "      <td>0.406509</td>\n",
       "    </tr>\n",
       "    <tr>\n",
       "      <th>min</th>\n",
       "      <td>1.143569e+11</td>\n",
       "      <td>0.000000</td>\n",
       "    </tr>\n",
       "    <tr>\n",
       "      <th>25%</th>\n",
       "      <td>1.143641e+11</td>\n",
       "      <td>0.000000</td>\n",
       "    </tr>\n",
       "    <tr>\n",
       "      <th>50%</th>\n",
       "      <td>1.143677e+11</td>\n",
       "      <td>0.000000</td>\n",
       "    </tr>\n",
       "    <tr>\n",
       "      <th>75%</th>\n",
       "      <td>1.143716e+11</td>\n",
       "      <td>0.000000</td>\n",
       "    </tr>\n",
       "    <tr>\n",
       "      <th>max</th>\n",
       "      <td>1.143767e+11</td>\n",
       "      <td>3.000000</td>\n",
       "    </tr>\n",
       "  </tbody>\n",
       "</table>\n",
       "</div>"
      ],
      "text/plain": [
       "       Respondent ID  What is your gender identification?\n",
       "count   7.300000e+02                           730.000000\n",
       "mean    1.143675e+11                             0.141096\n",
       "std     4.766981e+06                             0.406509\n",
       "min     1.143569e+11                             0.000000\n",
       "25%     1.143641e+11                             0.000000\n",
       "50%     1.143677e+11                             0.000000\n",
       "75%     1.143716e+11                             0.000000\n",
       "max     1.143767e+11                             3.000000"
      ]
     },
     "execution_count": 39,
     "metadata": {},
     "output_type": "execute_result"
    }
   ],
   "source": [
    "df1.describe()"
   ]
  },
  {
   "cell_type": "code",
   "execution_count": 40,
   "id": "4b1c20b6",
   "metadata": {},
   "outputs": [],
   "source": [
    "def think_about_work(value):\n",
    "    \n",
    "    \"\"\"Creates an age bucket for each participant using the age variable.\n",
    "        Meant to be used on a DataFrame with .apply().\"\"\"\n",
    "    \n",
    "    if value ==  'Strongly agree':\n",
    "        bucket = 5\n",
    "    \n",
    "    if value ==  'Agree':\n",
    "        bucket = 4\n",
    "        \n",
    "    if value == 'Neither agree or disagree':\n",
    "        bucket = 3\n",
    "   \n",
    "    if value == 'Disagree':\n",
    "        bucket = 2\n",
    "        \n",
    "    if value == 'Strongly disagree':\n",
    "        bucket = 1\n",
    "\n",
    "    return bucket "
   ]
  },
  {
   "cell_type": "code",
   "execution_count": 41,
   "id": "bc6444d3",
   "metadata": {},
   "outputs": [
    {
     "data": {
      "text/plain": [
       "3    2\n",
       "4    2\n",
       "5    2\n",
       "Name: think about how you act while at work, dtype: int64"
      ]
     },
     "execution_count": 41,
     "metadata": {},
     "output_type": "execute_result"
    }
   ],
   "source": [
    "df1['think about how you act while at work'] = df1['think about how you act while at work'].apply(think_about_work)\n",
    "df1['think about how you act while at work'].head(3)"
   ]
  },
  {
   "cell_type": "code",
   "execution_count": 42,
   "id": "0bf25167",
   "metadata": {},
   "outputs": [
    {
     "data": {
      "text/plain": [
       "think about how you act while at work\n",
       "2    230\n",
       "4    221\n",
       "3    125\n",
       "5     79\n",
       "1     75\n",
       "Name: count, dtype: int64"
      ]
     },
     "execution_count": 42,
     "metadata": {},
     "output_type": "execute_result"
    }
   ],
   "source": [
    "df1['think about how you act while at work'].value_counts()"
   ]
  },
  {
   "cell_type": "code",
   "execution_count": 43,
   "id": "8675fd03",
   "metadata": {},
   "outputs": [
    {
     "data": {
      "text/html": [
       "<div>\n",
       "<style scoped>\n",
       "    .dataframe tbody tr th:only-of-type {\n",
       "        vertical-align: middle;\n",
       "    }\n",
       "\n",
       "    .dataframe tbody tr th {\n",
       "        vertical-align: top;\n",
       "    }\n",
       "\n",
       "    .dataframe thead th {\n",
       "        text-align: right;\n",
       "    }\n",
       "</style>\n",
       "<table border=\"1\" class=\"dataframe\">\n",
       "  <thead>\n",
       "    <tr style=\"text-align: right;\">\n",
       "      <th></th>\n",
       "      <th>Respondent ID</th>\n",
       "      <th>What is your gender identification?</th>\n",
       "      <th>think about how you act while at work</th>\n",
       "    </tr>\n",
       "  </thead>\n",
       "  <tbody>\n",
       "    <tr>\n",
       "      <th>count</th>\n",
       "      <td>7.300000e+02</td>\n",
       "      <td>730.000000</td>\n",
       "      <td>730.000000</td>\n",
       "    </tr>\n",
       "    <tr>\n",
       "      <th>mean</th>\n",
       "      <td>1.143675e+11</td>\n",
       "      <td>0.141096</td>\n",
       "      <td>2.998630</td>\n",
       "    </tr>\n",
       "    <tr>\n",
       "      <th>std</th>\n",
       "      <td>4.766981e+06</td>\n",
       "      <td>0.406509</td>\n",
       "      <td>1.209813</td>\n",
       "    </tr>\n",
       "    <tr>\n",
       "      <th>min</th>\n",
       "      <td>1.143569e+11</td>\n",
       "      <td>0.000000</td>\n",
       "      <td>1.000000</td>\n",
       "    </tr>\n",
       "    <tr>\n",
       "      <th>25%</th>\n",
       "      <td>1.143641e+11</td>\n",
       "      <td>0.000000</td>\n",
       "      <td>2.000000</td>\n",
       "    </tr>\n",
       "    <tr>\n",
       "      <th>50%</th>\n",
       "      <td>1.143677e+11</td>\n",
       "      <td>0.000000</td>\n",
       "      <td>3.000000</td>\n",
       "    </tr>\n",
       "    <tr>\n",
       "      <th>75%</th>\n",
       "      <td>1.143716e+11</td>\n",
       "      <td>0.000000</td>\n",
       "      <td>4.000000</td>\n",
       "    </tr>\n",
       "    <tr>\n",
       "      <th>max</th>\n",
       "      <td>1.143767e+11</td>\n",
       "      <td>3.000000</td>\n",
       "      <td>5.000000</td>\n",
       "    </tr>\n",
       "  </tbody>\n",
       "</table>\n",
       "</div>"
      ],
      "text/plain": [
       "       Respondent ID  What is your gender identification?   \n",
       "count   7.300000e+02                           730.000000  \\\n",
       "mean    1.143675e+11                             0.141096   \n",
       "std     4.766981e+06                             0.406509   \n",
       "min     1.143569e+11                             0.000000   \n",
       "25%     1.143641e+11                             0.000000   \n",
       "50%     1.143677e+11                             0.000000   \n",
       "75%     1.143716e+11                             0.000000   \n",
       "max     1.143767e+11                             3.000000   \n",
       "\n",
       "       think about how you act while at work  \n",
       "count                             730.000000  \n",
       "mean                                2.998630  \n",
       "std                                 1.209813  \n",
       "min                                 1.000000  \n",
       "25%                                 2.000000  \n",
       "50%                                 3.000000  \n",
       "75%                                 4.000000  \n",
       "max                                 5.000000  "
      ]
     },
     "execution_count": 43,
     "metadata": {},
     "output_type": "execute_result"
    }
   ],
   "source": [
    "df1.describe()"
   ]
  },
  {
   "cell_type": "code",
   "execution_count": 44,
   "id": "faa410dd",
   "metadata": {},
   "outputs": [],
   "source": [
    "def are_you_nurse(value):\n",
    "    \n",
    "    \"\"\"Creates an age bucket for each participant using the age variable.\n",
    "        Meant to be used on a DataFrame with .apply().\"\"\"\n",
    "    \n",
    "    if value ==  'Yes':\n",
    "        bucket = 1\n",
    "    \n",
    "    if value ==  'No':\n",
    "        bucket = 0\n",
    "        \n",
    "\n",
    "    return bucket "
   ]
  },
  {
   "cell_type": "code",
   "execution_count": 45,
   "id": "d3aa08d7",
   "metadata": {},
   "outputs": [
    {
     "data": {
      "text/plain": [
       "3    1\n",
       "4    1\n",
       "5    1\n",
       "Name: Are you a nurse?, dtype: int64"
      ]
     },
     "execution_count": 45,
     "metadata": {},
     "output_type": "execute_result"
    }
   ],
   "source": [
    "df1['Are you a nurse?'] = df1['Are you a nurse?'].apply(are_you_nurse)\n",
    "df1['Are you a nurse?'].head(3)"
   ]
  },
  {
   "cell_type": "code",
   "execution_count": 46,
   "id": "c42dde81",
   "metadata": {},
   "outputs": [
    {
     "data": {
      "text/plain": [
       "Are you a nurse?\n",
       "1    721\n",
       "0      9\n",
       "Name: count, dtype: int64"
      ]
     },
     "execution_count": 46,
     "metadata": {},
     "output_type": "execute_result"
    }
   ],
   "source": [
    "df1['Are you a nurse?'].value_counts()"
   ]
  },
  {
   "cell_type": "code",
   "execution_count": 47,
   "id": "44610e93",
   "metadata": {},
   "outputs": [
    {
     "data": {
      "text/html": [
       "<div>\n",
       "<style scoped>\n",
       "    .dataframe tbody tr th:only-of-type {\n",
       "        vertical-align: middle;\n",
       "    }\n",
       "\n",
       "    .dataframe tbody tr th {\n",
       "        vertical-align: top;\n",
       "    }\n",
       "\n",
       "    .dataframe thead th {\n",
       "        text-align: right;\n",
       "    }\n",
       "</style>\n",
       "<table border=\"1\" class=\"dataframe\">\n",
       "  <thead>\n",
       "    <tr style=\"text-align: right;\">\n",
       "      <th></th>\n",
       "      <th>Respondent ID</th>\n",
       "      <th>What is your gender identification?</th>\n",
       "      <th>think about how you act while at work</th>\n",
       "      <th>Are you a nurse?</th>\n",
       "    </tr>\n",
       "  </thead>\n",
       "  <tbody>\n",
       "    <tr>\n",
       "      <th>count</th>\n",
       "      <td>7.300000e+02</td>\n",
       "      <td>730.000000</td>\n",
       "      <td>730.000000</td>\n",
       "      <td>730.000000</td>\n",
       "    </tr>\n",
       "    <tr>\n",
       "      <th>mean</th>\n",
       "      <td>1.143675e+11</td>\n",
       "      <td>0.141096</td>\n",
       "      <td>2.998630</td>\n",
       "      <td>0.987671</td>\n",
       "    </tr>\n",
       "    <tr>\n",
       "      <th>std</th>\n",
       "      <td>4.766981e+06</td>\n",
       "      <td>0.406509</td>\n",
       "      <td>1.209813</td>\n",
       "      <td>0.110424</td>\n",
       "    </tr>\n",
       "    <tr>\n",
       "      <th>min</th>\n",
       "      <td>1.143569e+11</td>\n",
       "      <td>0.000000</td>\n",
       "      <td>1.000000</td>\n",
       "      <td>0.000000</td>\n",
       "    </tr>\n",
       "    <tr>\n",
       "      <th>25%</th>\n",
       "      <td>1.143641e+11</td>\n",
       "      <td>0.000000</td>\n",
       "      <td>2.000000</td>\n",
       "      <td>1.000000</td>\n",
       "    </tr>\n",
       "    <tr>\n",
       "      <th>50%</th>\n",
       "      <td>1.143677e+11</td>\n",
       "      <td>0.000000</td>\n",
       "      <td>3.000000</td>\n",
       "      <td>1.000000</td>\n",
       "    </tr>\n",
       "    <tr>\n",
       "      <th>75%</th>\n",
       "      <td>1.143716e+11</td>\n",
       "      <td>0.000000</td>\n",
       "      <td>4.000000</td>\n",
       "      <td>1.000000</td>\n",
       "    </tr>\n",
       "    <tr>\n",
       "      <th>max</th>\n",
       "      <td>1.143767e+11</td>\n",
       "      <td>3.000000</td>\n",
       "      <td>5.000000</td>\n",
       "      <td>1.000000</td>\n",
       "    </tr>\n",
       "  </tbody>\n",
       "</table>\n",
       "</div>"
      ],
      "text/plain": [
       "       Respondent ID  What is your gender identification?   \n",
       "count   7.300000e+02                           730.000000  \\\n",
       "mean    1.143675e+11                             0.141096   \n",
       "std     4.766981e+06                             0.406509   \n",
       "min     1.143569e+11                             0.000000   \n",
       "25%     1.143641e+11                             0.000000   \n",
       "50%     1.143677e+11                             0.000000   \n",
       "75%     1.143716e+11                             0.000000   \n",
       "max     1.143767e+11                             3.000000   \n",
       "\n",
       "       think about how you act while at work  Are you a nurse?  \n",
       "count                             730.000000        730.000000  \n",
       "mean                                2.998630          0.987671  \n",
       "std                                 1.209813          0.110424  \n",
       "min                                 1.000000          0.000000  \n",
       "25%                                 2.000000          1.000000  \n",
       "50%                                 3.000000          1.000000  \n",
       "75%                                 4.000000          1.000000  \n",
       "max                                 5.000000          1.000000  "
      ]
     },
     "execution_count": 47,
     "metadata": {},
     "output_type": "execute_result"
    }
   ],
   "source": [
    "df1.describe()"
   ]
  },
  {
   "cell_type": "code",
   "execution_count": 48,
   "id": "5b5cd76c",
   "metadata": {},
   "outputs": [],
   "source": [
    "def ageInt(value):\n",
    "    age = int(value)\n",
    "\n",
    "    return age "
   ]
  },
  {
   "cell_type": "code",
   "execution_count": 49,
   "id": "26cd94d0",
   "metadata": {},
   "outputs": [
    {
     "data": {
      "text/plain": [
       "3    56\n",
       "4    46\n",
       "5    73\n",
       "Name: Age, dtype: int64"
      ]
     },
     "execution_count": 49,
     "metadata": {},
     "output_type": "execute_result"
    }
   ],
   "source": [
    "df1['Age'] = df1['Age'].apply(ageInt)\n",
    "df1['Age'].head(3)"
   ]
  },
  {
   "cell_type": "code",
   "execution_count": 50,
   "id": "7426e724",
   "metadata": {},
   "outputs": [
    {
     "data": {
      "text/html": [
       "<div>\n",
       "<style scoped>\n",
       "    .dataframe tbody tr th:only-of-type {\n",
       "        vertical-align: middle;\n",
       "    }\n",
       "\n",
       "    .dataframe tbody tr th {\n",
       "        vertical-align: top;\n",
       "    }\n",
       "\n",
       "    .dataframe thead th {\n",
       "        text-align: right;\n",
       "    }\n",
       "</style>\n",
       "<table border=\"1\" class=\"dataframe\">\n",
       "  <thead>\n",
       "    <tr style=\"text-align: right;\">\n",
       "      <th></th>\n",
       "      <th>Respondent ID</th>\n",
       "      <th>Age</th>\n",
       "      <th>What is your gender identification?</th>\n",
       "      <th>think about how you act while at work</th>\n",
       "      <th>Are you a nurse?</th>\n",
       "    </tr>\n",
       "  </thead>\n",
       "  <tbody>\n",
       "    <tr>\n",
       "      <th>count</th>\n",
       "      <td>7.300000e+02</td>\n",
       "      <td>730.000000</td>\n",
       "      <td>730.000000</td>\n",
       "      <td>730.000000</td>\n",
       "      <td>730.000000</td>\n",
       "    </tr>\n",
       "    <tr>\n",
       "      <th>mean</th>\n",
       "      <td>1.143675e+11</td>\n",
       "      <td>60.801370</td>\n",
       "      <td>0.141096</td>\n",
       "      <td>2.998630</td>\n",
       "      <td>0.987671</td>\n",
       "    </tr>\n",
       "    <tr>\n",
       "      <th>std</th>\n",
       "      <td>4.766981e+06</td>\n",
       "      <td>266.285835</td>\n",
       "      <td>0.406509</td>\n",
       "      <td>1.209813</td>\n",
       "      <td>0.110424</td>\n",
       "    </tr>\n",
       "    <tr>\n",
       "      <th>min</th>\n",
       "      <td>1.143569e+11</td>\n",
       "      <td>20.000000</td>\n",
       "      <td>0.000000</td>\n",
       "      <td>1.000000</td>\n",
       "      <td>0.000000</td>\n",
       "    </tr>\n",
       "    <tr>\n",
       "      <th>25%</th>\n",
       "      <td>1.143641e+11</td>\n",
       "      <td>39.000000</td>\n",
       "      <td>0.000000</td>\n",
       "      <td>2.000000</td>\n",
       "      <td>1.000000</td>\n",
       "    </tr>\n",
       "    <tr>\n",
       "      <th>50%</th>\n",
       "      <td>1.143677e+11</td>\n",
       "      <td>52.000000</td>\n",
       "      <td>0.000000</td>\n",
       "      <td>3.000000</td>\n",
       "      <td>1.000000</td>\n",
       "    </tr>\n",
       "    <tr>\n",
       "      <th>75%</th>\n",
       "      <td>1.143716e+11</td>\n",
       "      <td>61.000000</td>\n",
       "      <td>0.000000</td>\n",
       "      <td>4.000000</td>\n",
       "      <td>1.000000</td>\n",
       "    </tr>\n",
       "    <tr>\n",
       "      <th>max</th>\n",
       "      <td>1.143767e+11</td>\n",
       "      <td>7213.000000</td>\n",
       "      <td>3.000000</td>\n",
       "      <td>5.000000</td>\n",
       "      <td>1.000000</td>\n",
       "    </tr>\n",
       "  </tbody>\n",
       "</table>\n",
       "</div>"
      ],
      "text/plain": [
       "       Respondent ID          Age  What is your gender identification?   \n",
       "count   7.300000e+02   730.000000                           730.000000  \\\n",
       "mean    1.143675e+11    60.801370                             0.141096   \n",
       "std     4.766981e+06   266.285835                             0.406509   \n",
       "min     1.143569e+11    20.000000                             0.000000   \n",
       "25%     1.143641e+11    39.000000                             0.000000   \n",
       "50%     1.143677e+11    52.000000                             0.000000   \n",
       "75%     1.143716e+11    61.000000                             0.000000   \n",
       "max     1.143767e+11  7213.000000                             3.000000   \n",
       "\n",
       "       think about how you act while at work  Are you a nurse?  \n",
       "count                             730.000000        730.000000  \n",
       "mean                                2.998630          0.987671  \n",
       "std                                 1.209813          0.110424  \n",
       "min                                 1.000000          0.000000  \n",
       "25%                                 2.000000          1.000000  \n",
       "50%                                 3.000000          1.000000  \n",
       "75%                                 4.000000          1.000000  \n",
       "max                                 5.000000          1.000000  "
      ]
     },
     "execution_count": 50,
     "metadata": {},
     "output_type": "execute_result"
    }
   ],
   "source": [
    "df1.describe()"
   ]
  },
  {
   "cell_type": "code",
   "execution_count": null,
   "id": "ac24ac10",
   "metadata": {},
   "outputs": [],
   "source": []
  },
  {
   "cell_type": "code",
   "execution_count": 51,
   "id": "173b10f0",
   "metadata": {},
   "outputs": [
    {
     "data": {
      "text/plain": [
       "satisfied_job\n",
       "Agree                        220\n",
       "Neither agree or disagree    138\n",
       "Disagree                     128\n",
       "Strongly agree               123\n",
       "Strongly disagree            121\n",
       "Name: count, dtype: int64"
      ]
     },
     "execution_count": 51,
     "metadata": {},
     "output_type": "execute_result"
    }
   ],
   "source": [
    "df1['satisfied_job'].value_counts()"
   ]
  },
  {
   "cell_type": "code",
   "execution_count": 52,
   "id": "78bd9672",
   "metadata": {},
   "outputs": [],
   "source": [
    "def satisfied_job(value):\n",
    "    \n",
    "    \"\"\"Creates an age bucket for each participant using the age variable.\n",
    "        Meant to be used on a DataFrame with .apply().\"\"\"\n",
    "    \n",
    "    if value ==  'Strongly agree':\n",
    "        bucket = 5\n",
    "    \n",
    "    if value ==  'Agree':\n",
    "        bucket = 4\n",
    "        \n",
    "    if value == 'Neither agree or disagree':\n",
    "        bucket = 3\n",
    "   \n",
    "    if value == 'Disagree':\n",
    "        bucket = 2\n",
    "        \n",
    "    if value == 'Strongly disagree':\n",
    "        bucket = 1\n",
    "\n",
    "    return bucket "
   ]
  },
  {
   "cell_type": "code",
   "execution_count": 53,
   "id": "dcb683d3",
   "metadata": {},
   "outputs": [
    {
     "data": {
      "text/plain": [
       "3    1\n",
       "4    4\n",
       "5    5\n",
       "Name: satisfied_job, dtype: int64"
      ]
     },
     "execution_count": 53,
     "metadata": {},
     "output_type": "execute_result"
    }
   ],
   "source": [
    "df1['satisfied_job'] = df1['satisfied_job'].apply(satisfied_job)\n",
    "df1['satisfied_job'].head(3)"
   ]
  },
  {
   "cell_type": "code",
   "execution_count": 54,
   "id": "0240fa78",
   "metadata": {},
   "outputs": [],
   "source": [
    "def authentic_behavior(value):\n",
    "    \n",
    "    \"\"\"Creates an age bucket for each participant using the age variable.\n",
    "        Meant to be used on a DataFrame with .apply().\"\"\"\n",
    "    \n",
    "    if value ==  'Strongly agree':\n",
    "        bucket = 5\n",
    "    \n",
    "    if value ==  'Agree':\n",
    "        bucket = 4\n",
    "        \n",
    "    if value == 'Neither agree or disagree':\n",
    "        bucket = 3\n",
    "   \n",
    "    if value == 'Disagree':\n",
    "        bucket = 2\n",
    "        \n",
    "    if value == 'Strongly disagree':\n",
    "        bucket = 1\n",
    "\n",
    "    return bucket "
   ]
  },
  {
   "cell_type": "code",
   "execution_count": 55,
   "id": "4b584b84",
   "metadata": {},
   "outputs": [
    {
     "data": {
      "text/plain": [
       "3    4\n",
       "4    4\n",
       "5    4\n",
       "Name: authentic behavior, dtype: int64"
      ]
     },
     "execution_count": 55,
     "metadata": {},
     "output_type": "execute_result"
    }
   ],
   "source": [
    "df1['authentic behavior'] = df1['authentic behavior'].apply(authentic_behavior)\n",
    "df1['authentic behavior'].head(3)"
   ]
  },
  {
   "cell_type": "code",
   "execution_count": 56,
   "id": "0dfc4ad1",
   "metadata": {},
   "outputs": [
    {
     "data": {
      "text/plain": [
       "authentic behavior\n",
       "4    306\n",
       "3    191\n",
       "2    118\n",
       "5     75\n",
       "1     40\n",
       "Name: count, dtype: int64"
      ]
     },
     "execution_count": 56,
     "metadata": {},
     "output_type": "execute_result"
    }
   ],
   "source": [
    "df1['authentic behavior'].value_counts()"
   ]
  },
  {
   "cell_type": "code",
   "execution_count": 57,
   "id": "71ed669b",
   "metadata": {},
   "outputs": [
    {
     "data": {
      "text/html": [
       "<div>\n",
       "<style scoped>\n",
       "    .dataframe tbody tr th:only-of-type {\n",
       "        vertical-align: middle;\n",
       "    }\n",
       "\n",
       "    .dataframe tbody tr th {\n",
       "        vertical-align: top;\n",
       "    }\n",
       "\n",
       "    .dataframe thead th {\n",
       "        text-align: right;\n",
       "    }\n",
       "</style>\n",
       "<table border=\"1\" class=\"dataframe\">\n",
       "  <thead>\n",
       "    <tr style=\"text-align: right;\">\n",
       "      <th></th>\n",
       "      <th>Respondent ID</th>\n",
       "      <th>Age</th>\n",
       "      <th>What is your gender identification?</th>\n",
       "      <th>satisfied_job</th>\n",
       "      <th>authentic behavior</th>\n",
       "      <th>think about how you act while at work</th>\n",
       "      <th>Are you a nurse?</th>\n",
       "    </tr>\n",
       "  </thead>\n",
       "  <tbody>\n",
       "    <tr>\n",
       "      <th>count</th>\n",
       "      <td>7.300000e+02</td>\n",
       "      <td>730.000000</td>\n",
       "      <td>730.000000</td>\n",
       "      <td>730.000000</td>\n",
       "      <td>730.000000</td>\n",
       "      <td>730.000000</td>\n",
       "      <td>730.000000</td>\n",
       "    </tr>\n",
       "    <tr>\n",
       "      <th>mean</th>\n",
       "      <td>1.143675e+11</td>\n",
       "      <td>60.801370</td>\n",
       "      <td>0.141096</td>\n",
       "      <td>3.131507</td>\n",
       "      <td>3.353425</td>\n",
       "      <td>2.998630</td>\n",
       "      <td>0.987671</td>\n",
       "    </tr>\n",
       "    <tr>\n",
       "      <th>std</th>\n",
       "      <td>4.766981e+06</td>\n",
       "      <td>266.285835</td>\n",
       "      <td>0.406509</td>\n",
       "      <td>1.341219</td>\n",
       "      <td>1.042852</td>\n",
       "      <td>1.209813</td>\n",
       "      <td>0.110424</td>\n",
       "    </tr>\n",
       "    <tr>\n",
       "      <th>min</th>\n",
       "      <td>1.143569e+11</td>\n",
       "      <td>20.000000</td>\n",
       "      <td>0.000000</td>\n",
       "      <td>1.000000</td>\n",
       "      <td>1.000000</td>\n",
       "      <td>1.000000</td>\n",
       "      <td>0.000000</td>\n",
       "    </tr>\n",
       "    <tr>\n",
       "      <th>25%</th>\n",
       "      <td>1.143641e+11</td>\n",
       "      <td>39.000000</td>\n",
       "      <td>0.000000</td>\n",
       "      <td>2.000000</td>\n",
       "      <td>3.000000</td>\n",
       "      <td>2.000000</td>\n",
       "      <td>1.000000</td>\n",
       "    </tr>\n",
       "    <tr>\n",
       "      <th>50%</th>\n",
       "      <td>1.143677e+11</td>\n",
       "      <td>52.000000</td>\n",
       "      <td>0.000000</td>\n",
       "      <td>3.000000</td>\n",
       "      <td>4.000000</td>\n",
       "      <td>3.000000</td>\n",
       "      <td>1.000000</td>\n",
       "    </tr>\n",
       "    <tr>\n",
       "      <th>75%</th>\n",
       "      <td>1.143716e+11</td>\n",
       "      <td>61.000000</td>\n",
       "      <td>0.000000</td>\n",
       "      <td>4.000000</td>\n",
       "      <td>4.000000</td>\n",
       "      <td>4.000000</td>\n",
       "      <td>1.000000</td>\n",
       "    </tr>\n",
       "    <tr>\n",
       "      <th>max</th>\n",
       "      <td>1.143767e+11</td>\n",
       "      <td>7213.000000</td>\n",
       "      <td>3.000000</td>\n",
       "      <td>5.000000</td>\n",
       "      <td>5.000000</td>\n",
       "      <td>5.000000</td>\n",
       "      <td>1.000000</td>\n",
       "    </tr>\n",
       "  </tbody>\n",
       "</table>\n",
       "</div>"
      ],
      "text/plain": [
       "       Respondent ID          Age  What is your gender identification?   \n",
       "count   7.300000e+02   730.000000                           730.000000  \\\n",
       "mean    1.143675e+11    60.801370                             0.141096   \n",
       "std     4.766981e+06   266.285835                             0.406509   \n",
       "min     1.143569e+11    20.000000                             0.000000   \n",
       "25%     1.143641e+11    39.000000                             0.000000   \n",
       "50%     1.143677e+11    52.000000                             0.000000   \n",
       "75%     1.143716e+11    61.000000                             0.000000   \n",
       "max     1.143767e+11  7213.000000                             3.000000   \n",
       "\n",
       "       satisfied_job  authentic behavior   \n",
       "count     730.000000          730.000000  \\\n",
       "mean        3.131507            3.353425   \n",
       "std         1.341219            1.042852   \n",
       "min         1.000000            1.000000   \n",
       "25%         2.000000            3.000000   \n",
       "50%         3.000000            4.000000   \n",
       "75%         4.000000            4.000000   \n",
       "max         5.000000            5.000000   \n",
       "\n",
       "       think about how you act while at work  Are you a nurse?  \n",
       "count                             730.000000        730.000000  \n",
       "mean                                2.998630          0.987671  \n",
       "std                                 1.209813          0.110424  \n",
       "min                                 1.000000          0.000000  \n",
       "25%                                 2.000000          1.000000  \n",
       "50%                                 3.000000          1.000000  \n",
       "75%                                 4.000000          1.000000  \n",
       "max                                 5.000000          1.000000  "
      ]
     },
     "execution_count": 57,
     "metadata": {},
     "output_type": "execute_result"
    }
   ],
   "source": [
    "df1.describe()"
   ]
  },
  {
   "cell_type": "markdown",
   "id": "ef930254",
   "metadata": {},
   "source": [
    "## Visualization"
   ]
  },
  {
   "cell_type": "code",
   "execution_count": 58,
   "id": "234561b3",
   "metadata": {},
   "outputs": [
    {
     "data": {
      "image/png": "[encoded data removed]",
      "text/plain": [
       "<Figure size 864x576 with 2 Axes>"
      ]
     },
     "metadata": {},
     "output_type": "display_data"
    }
   ],
   "source": [
    "corr = df1[['Age','Are you a nurse?' ,'satisfied_job','authentic behavior','What is your gender identification?','think about how you act while at work']].corr()\n",
    "sns.set (rc = {'figure.figsize':(12, 8)})\n",
    "sns.heatmap(corr, annot=True, cmap='coolwarm',linewidths=.5)\n",
    "plt.title('Correlation Heatmap')\n",
    "plt.show()\n"
   ]
  },
  {
   "cell_type": "code",
   "execution_count": null,
   "id": "f8e8a3c2",
   "metadata": {},
   "outputs": [],
   "source": []
  }
 ],
 "metadata": {
  "kernelspec": {
   "display_name": "Python 3 (ipykernel)",
   "language": "python",
   "name": "python3"
  },
  "language_info": {
   "codemirror_mode": {
    "name": "ipython",
    "version": 3
   },
   "file_extension": ".py",
   "mimetype": "text/x-python",
   "name": "python",
   "nbconvert_exporter": "python",
   "pygments_lexer": "ipython3",
   "version": "3.10.2"
  }
 },
 "nbformat": 4,
 "nbformat_minor": 5
}
